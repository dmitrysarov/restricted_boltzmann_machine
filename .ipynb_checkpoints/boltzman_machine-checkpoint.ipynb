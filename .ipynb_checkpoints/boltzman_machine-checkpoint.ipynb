{
 "cells": [
  {
   "cell_type": "code",
   "execution_count": 1,
   "metadata": {},
   "outputs": [],
   "source": [
    "import numpy as np"
   ]
  },
  {
   "cell_type": "code",
   "execution_count": 23,
   "metadata": {},
   "outputs": [],
   "source": [
    "def sigmoid(x):\n",
    "    return 1/(1+np.exp(-x))\n",
    "\n",
    "class BM(object):\n",
    "    \n",
    "    def __init__(self, num_vis_unit, num_hiden_unit):\n",
    "        self.num_vis_unit = num_vis_unit\n",
    "        self.num_hiden_unit = num_hiden_unit\n",
    "        self.W = np.random.random((num_hiden_unit, num_vis_unit))-0.5\n",
    "        self.c = np.random.random(num_vis_unit)-0.5\n",
    "        self.b = np.random.random(num_hiden_unit)-0.5\n",
    "\n",
    "    def forward(self, vis_unit_val = None):\n",
    "        if not isinstance(vis_unit_val, np.ndarray):\n",
    "            vis_unit_val = (np.random.random(self.num_vis_unit) > 0.5).astype(np.int64)\n",
    "        random_sample = np.random.random(self.num_hiden_unit)\n",
    "        hiden_unit_val = (sigmoid(self.W.dot(vis_unit_val + self.c) + self.b) > random_sample).astype(np.int64)\n",
    "        return hiden_unit_val\n",
    "    \n",
    "    def backward(self, hiden_unit_val = None):\n",
    "        if not isinstance(hiden_unit_val, np.ndarray):\n",
    "            hiden_unit_val = (np.random.random(self.num_hiden_unit) > 0.5).astype(np.int64)\n",
    "        random_sample = np.random.random(self.num_vis_unit)\n",
    "        vis_unit_val = (sigmoid((hiden_unit_val + self.b).reshape(1,-1).dot(self.W) + self.c).squeeze() > random_sample).astype(np.int64)\n",
    "        return vis_unit_val\n",
    "    \n",
    "    def learning_step(self, vis_unit_val, lr=0.01):\n",
    "        hiden_unit_val = self.forward(vis_unit_val)\n",
    "        gibbs_sample_of_visual_unit_val = self.backward(hiden_unit_val)\n",
    "        gibbs_sample_of_hidden_unit_val = self.forward(gibbs_sample_of_visual_unit_val)\n",
    "        self.W += lr*(hiden_unit_val.reshape([-1,1]).dot(vis_unit_val.reshape([1,-1])) - \n",
    "                     gibbs_sample_of_hidden_unit_val.reshape([-1,1]).dot(gibbs_sample_of_visual_unit_val.reshape([1,-1])))\n",
    "        self.c += lr*(vis_unit_val - gibbs_sample_of_visual_unit_val)\n",
    "        self.b += lr*(hiden_unit_val - gibbs_sample_of_hidden_unit_val)"
   ]
  },
  {
   "cell_type": "code",
   "execution_count": 27,
   "metadata": {},
   "outputs": [],
   "source": [
    "import time\n",
    "bm = BM(num_vis_unit=3, num_hiden_unit=2)"
   ]
  },
  {
   "cell_type": "code",
   "execution_count": 28,
   "metadata": {},
   "outputs": [
    {
     "name": "stdout",
     "output_type": "stream",
     "text": [
      "hidden mean:  [0.40055] visual mean:  [0.47783 0.48872 0.4986 ]\n",
      "hidden mean:  [0.1504] visual mean:  [0.79694 0.19095 0.79811]\n",
      "hidden mean:  [0.89974] visual mean:  [0.95639 0.0606  0.9443 ]\n"
     ]
    }
   ],
   "source": [
    "train_sample = np.array([1,0,1]) # pattern to learn \n",
    "vis_unit_val = []\n",
    "hiden_unit_val = []\n",
    "start_learnin = 0 \n",
    "for i in range(int(300000)):\n",
    "    hiden_unit_val.append(bm.forward())\n",
    "    vis_unit_val.append(bm.backward())\n",
    "    if (i+1)%1000 == 0 and start_learnin == 1:\n",
    "        bm.learning_step(train_sample, lr=0.1)\n",
    "    if (i+1)%100000 == 0:\n",
    "        start_learnin = 1\n",
    "        print('hidden mean: ', np.mean(hiden_unit_val, axis=0), \n",
    "             'visual mean: ', np.mean(vis_unit_val, axis=0))\n",
    "        vis_unit_val = []\n",
    "        hiden_unit_val = []"
   ]
  },
  {
   "cell_type": "code",
   "execution_count": null,
   "metadata": {},
   "outputs": [],
   "source": []
  }
 ],
 "metadata": {
  "kernelspec": {
   "display_name": "Python 3",
   "language": "python",
   "name": "python3"
  },
  "language_info": {
   "codemirror_mode": {
    "name": "ipython",
    "version": 3
   },
   "file_extension": ".py",
   "mimetype": "text/x-python",
   "name": "python",
   "nbconvert_exporter": "python",
   "pygments_lexer": "ipython3",
   "version": "3.5.2"
  }
 },
 "nbformat": 4,
 "nbformat_minor": 2
}
