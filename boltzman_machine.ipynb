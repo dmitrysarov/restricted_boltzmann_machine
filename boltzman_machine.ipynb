{
 "cells": [
  {
   "cell_type": "code",
   "execution_count": 1,
   "metadata": {},
   "outputs": [],
   "source": [
    "import numpy as np"
   ]
  },
  {
   "cell_type": "code",
   "execution_count": 92,
   "metadata": {},
   "outputs": [],
   "source": [
    "def sigmoid(x):\n",
    "    return 1/(1+np.exp(-x))\n",
    "\n",
    "class BM(object):\n",
    "    \n",
    "    def __init__(self, num_vis_unit, num_hiden_unit):\n",
    "        self.num_vis_unit = num_vis_unit\n",
    "        self.num_hiden_unit = num_hiden_unit\n",
    "        self.W = np.random.random((num_hiden_unit, num_vis_unit))-0.5\n",
    "        self.c = np.random.random(num_vis_unit)-0.5\n",
    "        self.b = np.random.random(num_hiden_unit)-0.5\n",
    "\n",
    "    def forward(self, vis_unit_val = None):\n",
    "        if not isinstance(vis_unit_val, np.ndarray):\n",
    "            vis_unit_val = (np.random.random(self.num_vis_unit) > 0.5).astype(np.int64)\n",
    "        random_sample = np.random.random(self.num_hiden_unit)\n",
    "        hiden_unit_val = (sigmoid(self.W.dot(vis_unit_val + self.c) + self.b) > random_sample).astype(np.int64)\n",
    "        return hiden_unit_val\n",
    "    \n",
    "    def backward(self, hiden_unit_val = None):\n",
    "        if not isinstance(hiden_unit_val, np.ndarray):\n",
    "            hiden_unit_val = (np.random.random(self.num_hiden_unit) > 0.5).astype(np.int64)\n",
    "        random_sample = np.random.random(self.num_vis_unit)\n",
    "        vis_unit_val = (sigmoid(self.W.T.dot(hiden_unit_val + self.b) + self.c) > random_sample).astype(np.int64)\n",
    "        return vis_unit_val\n",
    "    \n",
    "    def learning_step(self, vis_unit_val, lr=0.01):\n",
    "        hiden_unit_val = self.forward(vis_unit_val)\n",
    "        gibbs_sample_of_visual_unit_val = self.backward(hiden_unit_val)\n",
    "        gibbs_sample_of_hidden_unit_val = self.forward(gibbs_sample_of_visual_unit_val)\n",
    "        self.W += lr*(vis_unit_val.reshape([-1,1]).dot(vis_unit_val.reshape([1,-1])) - \n",
    "                     gibbs_sample_of_hidden_unit_val.reshape([-1,1]).dot(gibbs_sample_of_visual_unit_val.reshape([1,-1])))\n",
    "        self.c += lr*(vis_unit_val - gibbs_sample_of_visual_unit_val)\n",
    "        self.b += lr*(hiden_unit_val - gibbs_sample_of_hidden_unit_val)"
   ]
  },
  {
   "cell_type": "code",
   "execution_count": 93,
   "metadata": {},
   "outputs": [],
   "source": [
    "import time\n",
    "bm = BM(3,2)"
   ]
  },
  {
   "cell_type": "code",
   "execution_count": 94,
   "metadata": {},
   "outputs": [
    {
     "name": "stdout",
     "output_type": "stream",
     "text": [
      "hidden mean:  [0.62349 0.5843 ] visual mean:  [0.51388 0.64483 0.43844]\n"
     ]
    },
    {
     "ename": "ValueError",
     "evalue": "operands could not be broadcast together with shapes (3,3) (2,3) ",
     "output_type": "error",
     "traceback": [
      "\u001b[0;31m---------------------------------------------------------------------------\u001b[0m",
      "\u001b[0;31mValueError\u001b[0m                                Traceback (most recent call last)",
      "\u001b[0;32m<ipython-input-94-c36cccd1dfb7>\u001b[0m in \u001b[0;36m<module>\u001b[0;34m\u001b[0m\n\u001b[1;32m      7\u001b[0m     \u001b[0mvis_unit_val\u001b[0m\u001b[0;34m.\u001b[0m\u001b[0mappend\u001b[0m\u001b[0;34m(\u001b[0m\u001b[0mbm\u001b[0m\u001b[0;34m.\u001b[0m\u001b[0mbackward\u001b[0m\u001b[0;34m(\u001b[0m\u001b[0;34m)\u001b[0m\u001b[0;34m)\u001b[0m\u001b[0;34m\u001b[0m\u001b[0m\n\u001b[1;32m      8\u001b[0m     \u001b[0;32mif\u001b[0m \u001b[0;34m(\u001b[0m\u001b[0mi\u001b[0m\u001b[0;34m+\u001b[0m\u001b[0;36m1\u001b[0m\u001b[0;34m)\u001b[0m\u001b[0;34m%\u001b[0m\u001b[0;36m1000\u001b[0m \u001b[0;34m==\u001b[0m \u001b[0;36m0\u001b[0m \u001b[0;32mand\u001b[0m \u001b[0mstart_learnin\u001b[0m \u001b[0;34m==\u001b[0m \u001b[0;36m1\u001b[0m\u001b[0;34m:\u001b[0m\u001b[0;34m\u001b[0m\u001b[0m\n\u001b[0;32m----> 9\u001b[0;31m         \u001b[0mbm\u001b[0m\u001b[0;34m.\u001b[0m\u001b[0mlearning_step\u001b[0m\u001b[0;34m(\u001b[0m\u001b[0mtrain_sample\u001b[0m\u001b[0;34m,\u001b[0m \u001b[0mlr\u001b[0m\u001b[0;34m=\u001b[0m\u001b[0;36m0.1\u001b[0m\u001b[0;34m)\u001b[0m\u001b[0;34m\u001b[0m\u001b[0m\n\u001b[0m\u001b[1;32m     10\u001b[0m     \u001b[0;32mif\u001b[0m \u001b[0;34m(\u001b[0m\u001b[0mi\u001b[0m\u001b[0;34m+\u001b[0m\u001b[0;36m1\u001b[0m\u001b[0;34m)\u001b[0m\u001b[0;34m%\u001b[0m\u001b[0;36m100000\u001b[0m \u001b[0;34m==\u001b[0m \u001b[0;36m0\u001b[0m\u001b[0;34m:\u001b[0m\u001b[0;34m\u001b[0m\u001b[0m\n\u001b[1;32m     11\u001b[0m         \u001b[0mstart_learnin\u001b[0m \u001b[0;34m=\u001b[0m \u001b[0;36m1\u001b[0m\u001b[0;34m\u001b[0m\u001b[0m\n",
      "\u001b[0;32m<ipython-input-92-32e8502ffdb5>\u001b[0m in \u001b[0;36mlearning_step\u001b[0;34m(self, vis_unit_val, lr)\u001b[0m\n\u001b[1;32m     30\u001b[0m         \u001b[0mgibbs_sample_of_hidden_unit_val\u001b[0m \u001b[0;34m=\u001b[0m \u001b[0mself\u001b[0m\u001b[0;34m.\u001b[0m\u001b[0mforward\u001b[0m\u001b[0;34m(\u001b[0m\u001b[0mgibbs_sample_of_visual_unit_val\u001b[0m\u001b[0;34m)\u001b[0m\u001b[0;34m\u001b[0m\u001b[0m\n\u001b[1;32m     31\u001b[0m         self.W += lr*(vis_unit_val.reshape([-1,1]).dot(vis_unit_val.reshape([1,-1])) - \n\u001b[0;32m---> 32\u001b[0;31m                      gibbs_sample_of_hidden_unit_val.reshape([-1,1]).dot(gibbs_sample_of_visual_unit_val.reshape([1,-1])))\n\u001b[0m\u001b[1;32m     33\u001b[0m         \u001b[0mself\u001b[0m\u001b[0;34m.\u001b[0m\u001b[0mc\u001b[0m \u001b[0;34m+=\u001b[0m \u001b[0mlr\u001b[0m\u001b[0;34m*\u001b[0m\u001b[0;34m(\u001b[0m\u001b[0mvis_unit_val\u001b[0m \u001b[0;34m-\u001b[0m \u001b[0mgibbs_sample_of_visual_unit_val\u001b[0m\u001b[0;34m)\u001b[0m\u001b[0;34m\u001b[0m\u001b[0m\n\u001b[1;32m     34\u001b[0m         \u001b[0mself\u001b[0m\u001b[0;34m.\u001b[0m\u001b[0mb\u001b[0m \u001b[0;34m+=\u001b[0m \u001b[0mlr\u001b[0m\u001b[0;34m*\u001b[0m\u001b[0;34m(\u001b[0m\u001b[0mhiden_unit_val\u001b[0m \u001b[0;34m-\u001b[0m \u001b[0mgibbs_sample_of_hidden_unit_val\u001b[0m\u001b[0;34m)\u001b[0m\u001b[0;34m\u001b[0m\u001b[0m\n",
      "\u001b[0;31mValueError\u001b[0m: operands could not be broadcast together with shapes (3,3) (2,3) "
     ]
    }
   ],
   "source": [
    "train_sample = np.array([1,0,1])\n",
    "vis_unit_val = []\n",
    "hiden_unit_val = []\n",
    "start_learnin = 0 \n",
    "for i in range(int(1e10)):\n",
    "    hiden_unit_val.append(bm.forward())\n",
    "    vis_unit_val.append(bm.backward())\n",
    "    if (i+1)%1000 == 0 and start_learnin == 1:\n",
    "        bm.learning_step(train_sample, lr=0.1)\n",
    "    if (i+1)%100000 == 0:\n",
    "        start_learnin = 1\n",
    "        print('hidden mean: ', np.mean(hiden_unit_val, axis=0), \n",
    "             'visual mean: ', np.mean(vis_unit_val, axis=0))\n",
    "        vis_unit_val = []\n",
    "        hiden_unit_val = []"
   ]
  },
  {
   "cell_type": "code",
   "execution_count": 85,
   "metadata": {},
   "outputs": [
    {
     "data": {
      "text/plain": [
       "array([[ 1.55304021, -0.10451253,  0.653806  ],\n",
       "       [-0.43809631,  0.12168953, -0.08764883],\n",
       "       [ 1.20854802, -0.28799984,  0.40310511]])"
      ]
     },
     "execution_count": 85,
     "metadata": {},
     "output_type": "execute_result"
    }
   ],
   "source": [
    "bm.W"
   ]
  },
  {
   "cell_type": "code",
   "execution_count": 86,
   "metadata": {},
   "outputs": [
    {
     "data": {
      "text/plain": [
       "array([ 0.33800118, -0.5160964 ,  0.2042567 ])"
      ]
     },
     "execution_count": 86,
     "metadata": {},
     "output_type": "execute_result"
    }
   ],
   "source": [
    "bm.c"
   ]
  },
  {
   "cell_type": "code",
   "execution_count": 87,
   "metadata": {},
   "outputs": [
    {
     "data": {
      "text/plain": [
       "array([ 0.04297527, -0.28843591,  0.28309701])"
      ]
     },
     "execution_count": 87,
     "metadata": {},
     "output_type": "execute_result"
    }
   ],
   "source": [
    "bm.b"
   ]
  },
  {
   "cell_type": "code",
   "execution_count": null,
   "metadata": {},
   "outputs": [],
   "source": []
  }
 ],
 "metadata": {
  "kernelspec": {
   "display_name": "Python 3",
   "language": "python",
   "name": "python3"
  },
  "language_info": {
   "codemirror_mode": {
    "name": "ipython",
    "version": 3
   },
   "file_extension": ".py",
   "mimetype": "text/x-python",
   "name": "python",
   "nbconvert_exporter": "python",
   "pygments_lexer": "ipython3",
   "version": "3.5.2"
  }
 },
 "nbformat": 4,
 "nbformat_minor": 2
}
